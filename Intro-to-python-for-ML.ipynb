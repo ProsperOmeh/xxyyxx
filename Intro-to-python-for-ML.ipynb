{
 "cells": [
  {
   "cell_type": "markdown",
   "metadata": {},
   "source": [
    "# Hamoye : Introduction to Python for Machine Learning"
   ]
  },
  {
   "cell_type": "markdown",
   "metadata": {},
   "source": [
    "This notebook investigates a public utility dataset and explored techniques on data cleaning, wrangling, and provides summary statistics and visualisations.\n",
    "\n",
    "This is a submission of the Hamoye Introduction to Python for Machine Learning course."
   ]
  },
  {
   "cell_type": "markdown",
   "metadata": {},
   "source": [
    "## 1. Data Cleaning"
   ]
  },
  {
   "cell_type": "markdown",
   "metadata": {},
   "source": [
    "This sections explores the challenges the given dataset posed, and also techniques on how to overcome them. \n",
    "\n",
    "The first challenge involves the missing values (i.e `Nan`) found in the `fuel_unit` field of the dataset. The total number of missing values sum up to 180.\n",
    "\n",
    "The second challenge lies in the `plant_name_ferc1` field, where spelling mistakes could be found, as well as various forms of the same name (i.e `cheyenne prairie` and `cheyenne prairie 42%`, etc). Aggregating these various forms as well as handling spelling errors would be a vital part of the data cleaning procedure."
   ]
  },
  {
   "cell_type": "code",
   "execution_count": 1,
   "metadata": {},
   "outputs": [],
   "source": [
    "# Add all import statements here!\n",
    "import pandas as pd\n",
    "import numpy as np\n",
    "import seaborn as sns\n",
    "import matplotlib.pyplot as plt\n",
    "from sklearn.preprocessing import OrdinalEncoder\n",
    "from sklearn.experimental import enable_iterative_imputer\n",
    "from sklearn.impute import IterativeImputer\n",
    "from sklearn.ensemble import RandomForestClassifier\n",
    "import missingno as msno"
   ]
  },
  {
   "cell_type": "markdown",
   "metadata": {},
   "source": [
    "### 1.1 MNAR or not?"
   ]
  },
  {
   "cell_type": "markdown",
   "metadata": {},
   "source": [
    "Before filling in the empty values in the `fuel_unit`, we should first determine if the data is Missing Not At Random (MNAR) or not.\n",
    "\n",
    "We also verify that `fuel_unit` is the only column with `Nan` (or `null`) values:"
   ]
  },
  {
   "cell_type": "code",
   "execution_count": 2,
   "metadata": {},
   "outputs": [
    {
     "data": {
      "text/html": [
       "<div>\n",
       "<style scoped>\n",
       "    .dataframe tbody tr th:only-of-type {\n",
       "        vertical-align: middle;\n",
       "    }\n",
       "\n",
       "    .dataframe tbody tr th {\n",
       "        vertical-align: top;\n",
       "    }\n",
       "\n",
       "    .dataframe thead th {\n",
       "        text-align: right;\n",
       "    }\n",
       "</style>\n",
       "<table border=\"1\" class=\"dataframe\">\n",
       "  <thead>\n",
       "    <tr style=\"text-align: right;\">\n",
       "      <th></th>\n",
       "      <th>record_id</th>\n",
       "      <th>utility_id_ferc1</th>\n",
       "      <th>report_year</th>\n",
       "      <th>plant_name_ferc1</th>\n",
       "      <th>fuel_type_code_pudl</th>\n",
       "      <th>fuel_unit</th>\n",
       "      <th>fuel_qty_burned</th>\n",
       "      <th>fuel_mmbtu_per_unit</th>\n",
       "      <th>fuel_cost_per_unit_burned</th>\n",
       "      <th>fuel_cost_per_unit_delivered</th>\n",
       "      <th>fuel_cost_per_mmbtu</th>\n",
       "    </tr>\n",
       "  </thead>\n",
       "  <tbody>\n",
       "    <tr>\n",
       "      <th>0</th>\n",
       "      <td>f1_fuel_1994_12_1_0_7</td>\n",
       "      <td>1</td>\n",
       "      <td>1994</td>\n",
       "      <td>rockport</td>\n",
       "      <td>coal</td>\n",
       "      <td>ton</td>\n",
       "      <td>5377489.0</td>\n",
       "      <td>16.590</td>\n",
       "      <td>18.59</td>\n",
       "      <td>18.53</td>\n",
       "      <td>1.121</td>\n",
       "    </tr>\n",
       "    <tr>\n",
       "      <th>1</th>\n",
       "      <td>f1_fuel_1994_12_1_0_10</td>\n",
       "      <td>1</td>\n",
       "      <td>1994</td>\n",
       "      <td>rockport total plant</td>\n",
       "      <td>coal</td>\n",
       "      <td>ton</td>\n",
       "      <td>10486945.0</td>\n",
       "      <td>16.592</td>\n",
       "      <td>18.58</td>\n",
       "      <td>18.53</td>\n",
       "      <td>1.120</td>\n",
       "    </tr>\n",
       "    <tr>\n",
       "      <th>2</th>\n",
       "      <td>f1_fuel_1994_12_2_0_1</td>\n",
       "      <td>2</td>\n",
       "      <td>1994</td>\n",
       "      <td>gorgas</td>\n",
       "      <td>coal</td>\n",
       "      <td>ton</td>\n",
       "      <td>2978683.0</td>\n",
       "      <td>24.130</td>\n",
       "      <td>39.72</td>\n",
       "      <td>38.12</td>\n",
       "      <td>1.650</td>\n",
       "    </tr>\n",
       "    <tr>\n",
       "      <th>3</th>\n",
       "      <td>f1_fuel_1994_12_2_0_7</td>\n",
       "      <td>2</td>\n",
       "      <td>1994</td>\n",
       "      <td>barry</td>\n",
       "      <td>coal</td>\n",
       "      <td>ton</td>\n",
       "      <td>3739484.0</td>\n",
       "      <td>23.950</td>\n",
       "      <td>47.21</td>\n",
       "      <td>45.99</td>\n",
       "      <td>1.970</td>\n",
       "    </tr>\n",
       "    <tr>\n",
       "      <th>4</th>\n",
       "      <td>f1_fuel_1994_12_2_0_10</td>\n",
       "      <td>2</td>\n",
       "      <td>1994</td>\n",
       "      <td>chickasaw</td>\n",
       "      <td>gas</td>\n",
       "      <td>mcf</td>\n",
       "      <td>40533.0</td>\n",
       "      <td>1.000</td>\n",
       "      <td>2.77</td>\n",
       "      <td>2.77</td>\n",
       "      <td>2.570</td>\n",
       "    </tr>\n",
       "  </tbody>\n",
       "</table>\n",
       "</div>"
      ],
      "text/plain": [
       "                record_id  utility_id_ferc1  report_year  \\\n",
       "0   f1_fuel_1994_12_1_0_7                 1         1994   \n",
       "1  f1_fuel_1994_12_1_0_10                 1         1994   \n",
       "2   f1_fuel_1994_12_2_0_1                 2         1994   \n",
       "3   f1_fuel_1994_12_2_0_7                 2         1994   \n",
       "4  f1_fuel_1994_12_2_0_10                 2         1994   \n",
       "\n",
       "       plant_name_ferc1 fuel_type_code_pudl fuel_unit  fuel_qty_burned  \\\n",
       "0              rockport                coal       ton        5377489.0   \n",
       "1  rockport total plant                coal       ton       10486945.0   \n",
       "2                gorgas                coal       ton        2978683.0   \n",
       "3                 barry                coal       ton        3739484.0   \n",
       "4             chickasaw                 gas       mcf          40533.0   \n",
       "\n",
       "   fuel_mmbtu_per_unit  fuel_cost_per_unit_burned  \\\n",
       "0               16.590                      18.59   \n",
       "1               16.592                      18.58   \n",
       "2               24.130                      39.72   \n",
       "3               23.950                      47.21   \n",
       "4                1.000                       2.77   \n",
       "\n",
       "   fuel_cost_per_unit_delivered  fuel_cost_per_mmbtu  \n",
       "0                         18.53                1.121  \n",
       "1                         18.53                1.120  \n",
       "2                         38.12                1.650  \n",
       "3                         45.99                1.970  \n",
       "4                          2.77                2.570  "
      ]
     },
     "execution_count": 2,
     "metadata": {},
     "output_type": "execute_result"
    }
   ],
   "source": [
    "# Read the dataset from the url given\n",
    "url = 'https://raw.githubusercontent.com/WalePhenomenon/climate_change/master/fuel_ferc1.csv'\n",
    "df = pd.read_csv(url)\n",
    "\n",
    "df.head()"
   ]
  },
  {
   "cell_type": "code",
   "execution_count": 3,
   "metadata": {},
   "outputs": [
    {
     "data": {
      "text/plain": [
       "record_id                         0\n",
       "utility_id_ferc1                  0\n",
       "report_year                       0\n",
       "plant_name_ferc1                  0\n",
       "fuel_type_code_pudl               0\n",
       "fuel_unit                       180\n",
       "fuel_qty_burned                   0\n",
       "fuel_mmbtu_per_unit               0\n",
       "fuel_cost_per_unit_burned         0\n",
       "fuel_cost_per_unit_delivered      0\n",
       "fuel_cost_per_mmbtu               0\n",
       "dtype: int64"
      ]
     },
     "execution_count": 3,
     "metadata": {},
     "output_type": "execute_result"
    }
   ],
   "source": [
    "# Check for any row values with null\n",
    "df.isnull().sum()"
   ]
  },
  {
   "cell_type": "markdown",
   "metadata": {},
   "source": [
    "The result above shows the `fuel_unit` field with 180 missing values. The fact that only the `fuel_unit` contains null values shows a potential of the values to be Missing Completely At Random. Also the percentage of the missing data (~0.7%), is also a strong indicator of the randomness of the missing data, as no pattern or correlation amongst the other columns could be determined.\n",
    "\n",
    "Since the `fuel_unit` is the only column with `null` values, then it cannot be determined if the data is Missing At Random. It can't also be determined if the values were left out on purpose (i.e Missing Not At Random). \n",
    "Hence, the missing data is said to be Missing Completely At Random."
   ]
  },
  {
   "cell_type": "markdown",
   "metadata": {},
   "source": [
    "### 1.2 Handling Missing Data"
   ]
  },
  {
   "cell_type": "markdown",
   "metadata": {},
   "source": [
    "A naive way to handle missing values would be to not handle them at all: remove all the rows where the `fuel_unit` value is `Nan`. This however, could lead to false conclusions being drawn from the data analysed, since the information is said to be incomplete. Also, there are other columns being affected if an entire row is removed, and though the missing data (~0.7%) is said to be small, it is not insignificant.\n",
    "\n",
    "Another method would be to replace all the missing values with the `most_frequent` value given in the `fuel_unit` column.\n",
    "\n",
    "Domain knowledge of both the missing data and the observed data can allow for more sophisticated measures in filling in the values with missing data."
   ]
  },
  {
   "cell_type": "markdown",
   "metadata": {},
   "source": [
    "For imputting null values, I train a `RandomForestClassifier` model on a sample of the dataset, with the `fuel_type_code_pudl` as the input feature, and the (non null) `fuel_unit` values as it's label.\n",
    "I then predict the null `fuel_unit` values using this model.\n",
    "\n",
    "To do this, we encode categorical values into integers (i.e `{coal, oil, nuclear}` becomes `{0, 1, 2}`):"
   ]
  },
  {
   "cell_type": "code",
   "execution_count": 4,
   "metadata": {},
   "outputs": [],
   "source": [
    "def ordinalencode(encoder, data, decode=False):\n",
    "    \"\"\"\n",
    "    Encodes or decodes categorical data.\n",
    "    \n",
    "    Args:\n",
    "     encoder: OrdinalEncoder object\n",
    "     data: categorical data to be transformed into numerical data (or vice versa)\n",
    "     decode: boolean value to decode or encode. \n",
    "    \"\"\"\n",
    "    nonulls = np.array(data.dropna())\n",
    "    impute_reshape = nonulls.reshape(-1,1)\n",
    "    if decode:\n",
    "        impute_ordinal = encoder.inverse_transform(impute_reshape)\n",
    "    else:\n",
    "        encoder.fit(impute_reshape)\n",
    "        impute_ordinal = encoder.transform(impute_reshape)\n",
    "    data.loc[data.notnull()] = np.squeeze(impute_ordinal)"
   ]
  },
  {
   "cell_type": "markdown",
   "metadata": {},
   "source": [
    "Now let's create our training data and fit a model!"
   ]
  },
  {
   "cell_type": "code",
   "execution_count": 5,
   "metadata": {},
   "outputs": [
    {
     "name": "stderr",
     "output_type": "stream",
     "text": [
      "/anaconda3/lib/python3.6/site-packages/pandas/core/indexing.py:190: SettingWithCopyWarning: \n",
      "A value is trying to be set on a copy of a slice from a DataFrame\n",
      "\n",
      "See the caveats in the documentation: http://pandas.pydata.org/pandas-docs/stable/indexing.html#indexing-view-versus-copy\n",
      "  self._setitem_with_indexer(indexer, value)\n",
      "/anaconda3/lib/python3.6/site-packages/pandas/core/indexing.py:190: SettingWithCopyWarning: \n",
      "A value is trying to be set on a copy of a slice from a DataFrame\n",
      "\n",
      "See the caveats in the documentation: http://pandas.pydata.org/pandas-docs/stable/indexing.html#indexing-view-versus-copy\n",
      "  self._setitem_with_indexer(indexer, value)\n"
     ]
    }
   ],
   "source": [
    "# Create encoder objects for both fuel_unit and fuel_type_code_pudl\n",
    "\n",
    "fuel_unit_encoder = OrdinalEncoder()\n",
    "fuel_type_encoder = OrdinalEncoder()\n",
    "\n",
    "# Encode the data!\n",
    "\n",
    "ordinalencode(fuel_unit_encoder, df['fuel_unit'])\n",
    "ordinalencode(fuel_type_encoder, df['fuel_type_code_pudl'])"
   ]
  },
  {
   "cell_type": "markdown",
   "metadata": {},
   "source": [
    "Extract the null indices (all 180 values of them), which are the `null` values to be predicted. Taking all the null indices of the `fuel_type_code_pudl` column would give the input values to the trained `RandomForestClassifier` model."
   ]
  },
  {
   "cell_type": "code",
   "execution_count": 6,
   "metadata": {},
   "outputs": [],
   "source": [
    "null_indices = df[df['fuel_unit'].isnull()].index\n",
    "\n",
    "X_predict = np.array(df.loc[null_indices]['fuel_type_code_pudl']).reshape(-1, 1)\n",
    "\n",
    "assert len(null_indices) == df['fuel_unit'].isnull().sum()"
   ]
  },
  {
   "cell_type": "code",
   "execution_count": 7,
   "metadata": {},
   "outputs": [
    {
     "data": {
      "text/plain": [
       "RandomForestClassifier(random_state=0)"
      ]
     },
     "execution_count": 7,
     "metadata": {},
     "output_type": "execute_result"
    }
   ],
   "source": [
    "# TODO: randomise the training data,\n",
    "# TODO: Use 60% of train data to train model and 40% to test model accuracy\n",
    "\n",
    "train_data = df.dropna() # training data excludes all null values\n",
    "\n",
    "X = np.array(train_data['fuel_type_code_pudl']).reshape(-1, 1)\n",
    "y = np.array(train_data['fuel_unit'])\n",
    "y = y.astype('int')\n",
    "\n",
    "rf = RandomForestClassifier(random_state=0)\n",
    "rf.fit(X, y)"
   ]
  },
  {
   "cell_type": "markdown",
   "metadata": {},
   "source": [
    "Predict the output values with trained model."
   ]
  },
  {
   "cell_type": "code",
   "execution_count": 8,
   "metadata": {},
   "outputs": [],
   "source": [
    "predicted = rf.predict(X_predict)\n",
    "\n",
    "# Replace the null values of the `fuel_unit` column in the dataframe.\n",
    "df.loc[null_indices, 'fuel_unit'] = np.array(predicted)\n",
    "\n",
    "assert df['fuel_unit'].isnull().sum() == 0"
   ]
  },
  {
   "cell_type": "code",
   "execution_count": 9,
   "metadata": {},
   "outputs": [
    {
     "name": "stderr",
     "output_type": "stream",
     "text": [
      "/anaconda3/lib/python3.6/site-packages/pandas/core/indexing.py:190: SettingWithCopyWarning: \n",
      "A value is trying to be set on a copy of a slice from a DataFrame\n",
      "\n",
      "See the caveats in the documentation: http://pandas.pydata.org/pandas-docs/stable/indexing.html#indexing-view-versus-copy\n",
      "  self._setitem_with_indexer(indexer, value)\n",
      "/anaconda3/lib/python3.6/site-packages/pandas/core/indexing.py:190: SettingWithCopyWarning: \n",
      "A value is trying to be set on a copy of a slice from a DataFrame\n",
      "\n",
      "See the caveats in the documentation: http://pandas.pydata.org/pandas-docs/stable/indexing.html#indexing-view-versus-copy\n",
      "  self._setitem_with_indexer(indexer, value)\n"
     ]
    }
   ],
   "source": [
    "# Decode! (i.e from {0, 1, 2} to {coal, oil, gas})\n",
    "ordinalencode(fuel_unit_encoder, df['fuel_unit'], decode=True)\n",
    "ordinalencode(fuel_type_encoder, df['fuel_type_code_pudl'], decode=True)"
   ]
  },
  {
   "cell_type": "markdown",
   "metadata": {},
   "source": [
    "### 1.3 TODO: Cleaning the `fuel_cost_per_unit_burned` column"
   ]
  },
  {
   "cell_type": "markdown",
   "metadata": {},
   "source": [
    "#### 1.3.1 Removing negative values\n",
    "\n",
    "Some values in the `fuel_cost_per_unit_burned`, `fuel_cost_per_unit_delivered` and `fuel_cost_per_mmbtu` were found to be less than zero. \n",
    "\n",
    "A negative cost value in any of the `integer` or `float` data type columns in any case, would be discrepancy, assumming there is no such thing as negative cost in the actual sense. To fix this, we make sure to eliminate negative values by taking the absolute value of all the `integer` or `float` data type columns."
   ]
  },
  {
   "cell_type": "code",
   "execution_count": 10,
   "metadata": {},
   "outputs": [],
   "source": [
    "\n",
    "df['fuel_qty_burned'] = df['fuel_qty_burned'].abs()\n",
    "df['fuel_cost_per_unit_burned'] = df['fuel_cost_per_unit_burned'].abs()\n",
    "df['fuel_mmbtu_per_unit'] = df['fuel_mmbtu_per_unit'].abs()\n",
    "df['fuel_cost_per_unit_burned'] = df['fuel_cost_per_unit_burned'].abs()\n",
    "df['fuel_cost_per_unit_delivered'] = df['fuel_cost_per_unit_delivered'].abs()\n",
    "df['fuel_cost_per_mmbtu'] = df['fuel_cost_per_mmbtu'].abs()\n",
    "\n",
    "assert df[df['fuel_qty_burned'] < 0]['fuel_qty_burned'].sum() == 0\n",
    "assert df[df['fuel_cost_per_unit_burned'] < 0]['fuel_cost_per_unit_burned'].sum() == 0\n",
    "assert df[df['fuel_mmbtu_per_unit'] < 0]['fuel_mmbtu_per_unit'].sum() == 0\n",
    "assert df[df['fuel_cost_per_unit_burned'] < 0]['fuel_cost_per_unit_burned'].sum() == 0\n",
    "assert df[df['fuel_cost_per_unit_delivered'] < 0]['fuel_cost_per_unit_delivered'].sum() == 0\n",
    "assert df[df['fuel_cost_per_mmbtu'] < 0]['fuel_cost_per_mmbtu'].sum() == 0\n",
    "\n"
   ]
  },
  {
   "cell_type": "markdown",
   "metadata": {},
   "source": [
    "### 1.4 TODO: Cleaning the `plant_name_ferc1` column"
   ]
  },
  {
   "cell_type": "markdown",
   "metadata": {},
   "source": [
    "The second part of the data cleaning process involves `plant_name_ferc1` column, which holds the names of the individual power plant from which the data for a given row was recorded.\n",
    "\n",
    "**Note: limited analysis was performed using the `other` fuel type as I could not draw any meaningful conclusions while being completely ignorant about the nature of the fuel type (i.e renewable or non-renewable, etc).**"
   ]
  },
  {
   "cell_type": "markdown",
   "metadata": {},
   "source": [
    "## 2. Exploratory Data Analysis (EDA)"
   ]
  },
  {
   "cell_type": "markdown",
   "metadata": {},
   "source": [
    "This section explores the data, drawing up various summary statistics, making visualisations and drawing informed conclusions about the data."
   ]
  },
  {
   "cell_type": "markdown",
   "metadata": {},
   "source": [
    "### 2.1 How fuel costs impact the viability of the different generation sources"
   ]
  },
  {
   "cell_type": "markdown",
   "metadata": {},
   "source": [
    "Taking the viability of a fuel source to be the quantity of fuel burnt for that given source, I determine how fuel costs impact the viablility of different generation sources by drawing a scatter plot of the `fuel_qty_burned` against the `fuel_cost_per_unit_burned` as shown below:"
   ]
  },
  {
   "cell_type": "code",
   "execution_count": null,
   "metadata": {},
   "outputs": [
    {
     "data": {
      "image/png": "[encoded data removed]",
      "text/plain": [
       "<Figure size 720x288 with 1 Axes>"
      ]
     },
     "metadata": {},
     "output_type": "display_data"
    },
    {
     "data": {
      "image/png": "[encoded data removed]",
      "text/plain": [
       "<Figure size 720x288 with 1 Axes>"
      ]
     },
     "metadata": {},
     "output_type": "display_data"
    },
    {
     "data": {
      "image/png": "[encoded data removed]",
      "text/plain": [
       "<Figure size 720x288 with 1 Axes>"
      ]
     },
     "metadata": {},
     "output_type": "display_data"
    },
    {
     "data": {
      "image/png": "[encoded data removed]",
      "text/plain": [
       "<Figure size 720x288 with 1 Axes>"
      ]
     },
     "metadata": {},
     "output_type": "display_data"
    },
    {
     "data": {
      "image/png": "[encoded data removed]",
      "text/plain": [
       "<Figure size 720x288 with 1 Axes>"
      ]
     },
     "metadata": {},
     "output_type": "display_data"
    }
   ],
   "source": [
    "def plot_scatter(df, fuel_type):\n",
    "    \"\"\"\n",
    "    Helper function to plot scatter graph.\n",
    "    \"\"\"\n",
    "\n",
    "    x = df[df['fuel_type_code_pudl'] == fuel_type]['fuel_qty_burned']\n",
    "    y = df[df['fuel_type_code_pudl'] == fuel_type]['fuel_cost_per_unit_burned']\n",
    "\n",
    "    plt.figure(figsize=(10, 4))\n",
    "\n",
    "    plt.scatter(x, y, s=50, marker=\"+\")\n",
    "    plt.xlabel('Fuel cost per unit burned')\n",
    "    plt.ylabel('Fuel quantity burned')\n",
    "    plt.title(fuel_type)\n",
    "    plt.show()\n",
    "\n",
    "\n",
    "plot_scatter(df, 'coal')\n",
    "plot_scatter(df, 'oil')\n",
    "plot_scatter(df, 'nuclear')\n",
    "plot_scatter(df, 'gas')\n",
    "plot_scatter(df, 'nuclear')\n",
    "plot_scatter(df, 'waste')\n",
    "plot_scatter(df, 'other')"
   ]
  },
  {
   "cell_type": "markdown",
   "metadata": {},
   "source": [
    "The scatter plots drawn above shows that more fuel quantity is burned at a lower fuel cost, hence the fuel type is more viable the lower the fuel cost per unit burned, and vice versa (i.e less fuel is burnt at higher fuel cost per unit burnt values)."
   ]
  },
  {
   "cell_type": "markdown",
   "metadata": {},
   "source": [
    "### 2.2 Competitiveness of renewable electricity"
   ]
  },
  {
   "cell_type": "markdown",
   "metadata": {},
   "source": [
    "To determine the competitiveness of renewable electricity, the total fuel cost unit of each record must be known according to the equation below:\n",
    "\n",
    "`total_fuel_cost = fuel_qty_burned * fuel_cost_per_unit_burned`, where `fuel_qty_burned` and `fuel_cost_per_unit_burned` are the values in their respective columns for a single row.\n",
    "\n",
    "The `total_fuel_cost` column is then added to the pandas dataframe as shown in the cell below:"
   ]
  },
  {
   "cell_type": "code",
   "execution_count": null,
   "metadata": {},
   "outputs": [],
   "source": [
    "df['total_fuel_cost'] = np.around(df['fuel_qty_burned'] * df['fuel_cost_per_unit_burned'])"
   ]
  },
  {
   "cell_type": "markdown",
   "metadata": {},
   "source": [
    "The next step would be to plot a bar chart showing the `total_fuel_cost` against the different generation sources such as coal, oil, etc.\n",
    "\n",
    "I create some helper functions below to make plotting graphs a little bit easier:"
   ]
  },
  {
   "cell_type": "code",
   "execution_count": null,
   "metadata": {},
   "outputs": [],
   "source": [
    "def stat_column_per_year(df, year, fuel_type, column='total_fuel_cost', stat='mean'):\n",
    "    \"\"\"\n",
    "    Return the average value of a given column of a given fuel type, for a given year.\n",
    "    \n",
    "    Args:\n",
    "        df [Pandas Dataframe]: the pandas Dataframe containing the report_year and fuel_type_code_pudl columns\n",
    "        year [int]: the given year\n",
    "        fuel_type [string]: i.e coal, oil, nuclear, etc.\n",
    "        column [string]: column in pandas dataframe `df`\n",
    "        stat [string]: operation to perform (i.e sum or mean)\n",
    "        \n",
    "    Return [float]:\n",
    "        average value of given column.\n",
    "    \"\"\"\n",
    "    \n",
    "    assert stat == 'mean' or stat == 'sum'\n",
    "    \n",
    "    if stat == 'mean':\n",
    "        return df[(df['report_year'] == year) & (df['fuel_type_code_pudl'] == fuel_type)][column].mean()\n",
    "    elif stat == 'sum':\n",
    "        return df[(df['report_year'] == year) & (df['fuel_type_code_pudl'] == fuel_type)][column].sum()"
   ]
  },
  {
   "cell_type": "code",
   "execution_count": null,
   "metadata": {},
   "outputs": [],
   "source": [
    "def plot_bar(df, column, x_axis_title, y_axis_title, graph_title, log=False):\n",
    "\n",
    "    years = list(df['report_year'].unique())\n",
    "    x = np.arange(len(years))\n",
    "    fig, ax=plt.subplots(figsize= (25,6))\n",
    "    width = 0.16\n",
    "    font_size = 20\n",
    "    stat = 'sum'\n",
    "    \n",
    "    coal = [stat_column_per_year(df, year, 'coal', column=column, stat=stat) for year in years]\n",
    "    gas = [stat_column_per_year(df, year, 'gas', column=column, stat=stat) for year in years]\n",
    "    oil = [stat_column_per_year(df, year, 'oil', column=column, stat=stat) for year in years]\n",
    "    nuclear = [stat_column_per_year(df, year, 'nuclear', column=column, stat=stat) for year in years]\n",
    "    waste = [stat_column_per_year(df, year, 'waste', column=column, stat=stat) for year in years]\n",
    "    \n",
    "    ax.bar(x + 0.00, coal, width = width, label='coal')\n",
    "    ax.bar(x + width, gas, width = width, label='gas')\n",
    "    ax.bar(x + (2 * width), oil, width = width, label='oil')\n",
    "    ax.bar(x + (3 * width), nuclear, width = width, label='nuclear')\n",
    "    ax.bar(x + (4 * width), waste, width = width, label='waste')\n",
    "    \n",
    "    # Add some text for labels, title and custom x-axis tick labels, etc.\n",
    "    ax.set_ylabel(y_axis_title, fontsize=font_size)\n",
    "    ax.set_xlabel(x_axis_title, fontsize=font_size)\n",
    "    ax.set_title(graph_title, fontsize=font_size)\n",
    "    ax.set_xticks(x)\n",
    "    ax.set_xticklabels(years)\n",
    "    if log: ax.set_yscale('log')\n",
    "    ax.legend()"
   ]
  },
  {
   "cell_type": "code",
   "execution_count": null,
   "metadata": {},
   "outputs": [],
   "source": [
    "def plot_trend(df, column, x_axis_title, y_axis_title, graph_title, stat='mean', log=False):\n",
    "    \"\"\"\n",
    "    Helper function to plot graphs.\n",
    "    \"\"\"\n",
    "    \n",
    "    plt.figure(figsize=(15, 5))\n",
    "\n",
    "    years = list(df['report_year'].unique())\n",
    "\n",
    "    y1 = [stat_column_per_year(df, year, 'coal', column=column, stat=stat) for year in years]\n",
    "    plt.plot(years, y1, label=\"coal\")\n",
    "\n",
    "    y2 = [stat_column_per_year(df, year, 'gas', column=column, stat=stat) for year in years]\n",
    "    plt.plot(years, y2, label=\"gas\")\n",
    "\n",
    "    y3 = [stat_column_per_year(df, year, 'nuclear', column=column, stat=stat) for year in years]\n",
    "    plt.plot(years, y3, label=\"nuclear\")\n",
    "\n",
    "    y4 = [stat_column_per_year(df, year, 'oil', column=column, stat=stat) for year in years]\n",
    "    plt.plot(years, y4, label=\"oil\")\n",
    "\n",
    "    y5 = [stat_column_per_year(df, year, 'waste', column=column, stat=stat) for year in years]\n",
    "    plt.plot(years, y5, label=\"waste\")\n",
    "    \n",
    "    if log: plt.yscale('log')\n",
    "    \n",
    "    plt.xlabel(x_axis_title)\n",
    "    plt.ylabel(y_axis_title)\n",
    "    plt.title(graph_title)\n",
    "    plt.legend()\n",
    "    plt.show()"
   ]
  },
  {
   "cell_type": "code",
   "execution_count": null,
   "metadata": {},
   "outputs": [],
   "source": [
    "def plot_pie():\n",
    "    labels = ['Coal', 'Oil', 'Nuclear', 'Gas', 'Waste']\n",
    "    total_fuel_qty_burned = df['fuel_qty_burned'].sum()\n",
    "\n",
    "    sizes = [\n",
    "        (df[df['fuel_type_code_pudl'] == 'coal']['fuel_qty_burned'].sum() / total_fuel_qty_burned) * 100,\n",
    "        (df[df['fuel_type_code_pudl'] == 'oil']['fuel_qty_burned'].sum() / total_fuel_qty_burned) * 100,\n",
    "        (df[df['fuel_type_code_pudl'] == 'nuclear']['fuel_qty_burned'].sum() / total_fuel_qty_burned) * 100,\n",
    "        (df[df['fuel_type_code_pudl'] == 'gas']['fuel_qty_burned'].sum() / total_fuel_qty_burned) * 100,\n",
    "        (df[df['fuel_type_code_pudl'] == 'waste']['fuel_qty_burned'].sum() / total_fuel_qty_burned) * 100,\n",
    "    ]\n",
    "    \n",
    "    explode = (0, 0, 0, 0.1, 0)  # only \"explode\" the 2nd slice (i.e. 'Hogs')\n",
    "\n",
    "    fig1, ax1 = plt.subplots(figsize=(5, 5))\n",
    "    ax1.pie(sizes, labels=labels, explode=explode, autopct='%1.1f%%', startangle=140)\n",
    "    ax1.axis('equal')\n",
    "    ax1.set_title('Fig 3: Pie chart of fuel quantity burnt per fuel type')\n",
    "    plt.show()"
   ]
  },
  {
   "cell_type": "code",
   "execution_count": null,
   "metadata": {},
   "outputs": [],
   "source": [
    "plot_bar(df, 'fuel_qty_burned', 'Year', 'Total fuel burnt', 'Fig 1: Total fuel burnt per year', log=True)\n",
    "plot_trend(df, 'fuel_qty_burned', 'Year', 'Total fuel quantity burned', 'Fig 2: Total fuel burnt per year', stat='sum', log=True)\n",
    "plot_pie()"
   ]
  },
  {
   "cell_type": "markdown",
   "metadata": {},
   "source": [
    "From the figure `Fig 1` above, `gas` has been the leading energy source being burnt, followed by `coal`, then `nuclear`, and finally `waste`. In order:\n",
    "1. Gas\n",
    "2. Coal\n",
    "3. Nuclear\n",
    "4. Oil (except in 1995, 1998, and 1999)\n",
    "5. Waste\n",
    "\n",
    "The order of this trend was consistent for most of the years observed, as shown in figure `Fig 2`.\n",
    "Figure `Fig 2` also shows the steady decline of `oil` from 2005, and the incremental rise of `waste` such that by 2017, the total fuel quantity burned for the two fuel types are nearly equal.\n",
    "\n",
    "The price of `oil` has also historically been affected by political situations in oil producing countries, amongst other political factors outside typical supply-demand ecomics, as this paper by Robert Mabro [1] will indicate, the oil price crisis of 1998 is also reflected in both figures `Fig 1` and `Fig 2`.\n",
    "\n",
    "In conclusion, `coal`, `gas` and `nuclear` still dominate the energy sources, taking up 99.3 of the combined fuel quantity burned, with `gas` alone at 72.3% as seen in figure `Fig 3`.\n",
    "The only renewable source, `waste`, is put at 0.1% of fuel quantity burnt, although, according to figure `Fig 2`, it showed a steady increase in fuel quantity burnt throughout the years, indicating some promise for the future.\n",
    "\n",
    "[1] https://www.oxfordenergy.org/wpcms/wp-content/uploads/2010/11/SP10-TheOilPriceCrisisof1998-RMabro-1998.pdf"
   ]
  },
  {
   "cell_type": "markdown",
   "metadata": {},
   "source": [
    "### 2.3 Generation mix of utilities over time"
   ]
  },
  {
   "cell_type": "markdown",
   "metadata": {},
   "source": []
  }
 ],
 "metadata": {
  "kernelspec": {
   "display_name": "Python 3",
   "language": "python",
   "name": "python3"
  },
  "language_info": {
   "codemirror_mode": {
    "name": "ipython",
    "version": 3
   },
   "file_extension": ".py",
   "mimetype": "text/x-python",
   "name": "python",
   "nbconvert_exporter": "python",
   "pygments_lexer": "ipython3",
   "version": "3.6.5"
  }
 },
 "nbformat": 4,
 "nbformat_minor": 2
}
